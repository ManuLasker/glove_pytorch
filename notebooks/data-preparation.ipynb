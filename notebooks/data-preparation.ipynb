{
 "cells": [
  {
   "cell_type": "code",
   "execution_count": 1,
   "metadata": {},
   "outputs": [],
   "source": [
    "%load_ext autoreload\n",
    "%autoreload 2"
   ]
  },
  {
   "cell_type": "code",
   "execution_count": 13,
   "metadata": {},
   "outputs": [],
   "source": [
    "from utils import *\n",
    "from tqdm import tqdm\n",
    "tqdm.pandas(desc=\"Preprocess Data\")"
   ]
  },
  {
   "cell_type": "code",
   "execution_count": 14,
   "metadata": {},
   "outputs": [
    {
     "name": "stderr",
     "output_type": "stream",
     "text": [
      "2020-07-31 18:21:15,676 : INFO : Downloading Dataset on koombea.com///wp-json/wp/v2/posts?page&per_page\n",
      "2020-07-31 18:21:29,284 : INFO : Downloading blogs = 20\n",
      "2020-07-31 18:21:44,207 : INFO : Downloading blogs = 40\n",
      "2020-07-31 18:22:00,096 : INFO : Downloading blogs = 60\n",
      "2020-07-31 18:22:15,574 : INFO : Downloading blogs = 80\n",
      "2020-07-31 18:22:30,836 : INFO : Downloading blogs = 100\n",
      "2020-07-31 18:22:46,599 : INFO : Downloading blogs = 120\n",
      "2020-07-31 18:23:01,909 : INFO : Downloading blogs = 140\n",
      "2020-07-31 18:23:17,192 : INFO : Downloading blogs = 160\n",
      "2020-07-31 18:23:33,036 : INFO : Downloading blogs = 180\n",
      "2020-07-31 18:23:48,216 : INFO : Downloading blogs = 200\n",
      "2020-07-31 18:24:03,051 : INFO : Downloading blogs = 220\n",
      "2020-07-31 18:24:18,939 : INFO : Downloading blogs = 240\n",
      "2020-07-31 18:24:34,642 : INFO : Downloading blogs = 260\n",
      "2020-07-31 18:24:49,957 : INFO : Downloading blogs = 280\n",
      "2020-07-31 18:25:04,955 : INFO : Downloading blogs = 300\n",
      "2020-07-31 18:25:20,373 : INFO : Downloading blogs = 320\n",
      "2020-07-31 18:25:36,175 : INFO : Downloading blogs = 340\n",
      "2020-07-31 18:25:55,780 : INFO : Downloading blogs = 360\n",
      "2020-07-31 18:26:11,669 : INFO : Downloading blogs = 380\n",
      "2020-07-31 18:26:26,951 : INFO : Downloading blogs = 400\n",
      "2020-07-31 18:26:41,750 : INFO : Downloading blogs = 420\n",
      "2020-07-31 18:26:56,907 : INFO : Downloading blogs = 440\n",
      "2020-07-31 18:27:12,716 : INFO : Downloading blogs = 460\n",
      "2020-07-31 18:27:27,989 : INFO : Downloading blogs = 480\n",
      "2020-07-31 18:27:34,124 : ERROR : Error! can only concatenate list (not \"dict\") to list\n",
      "2020-07-31 18:27:34,129 : INFO : Begin To clean datablogs and grab title and content information\n",
      "Cleaning html data: 100%|██████████| 485/485 [00:01<00:00, 378.90it/s]\n",
      "2020-07-31 18:27:35,421 : INFO : Finish!! Donwloading the blogs\n"
     ]
    }
   ],
   "source": [
    "blogs_df, last_page = get_data_frame(page=1)"
   ]
  },
  {
   "cell_type": "code",
   "execution_count": 15,
   "metadata": {},
   "outputs": [
    {
     "data": {
      "text/html": [
       "<div>\n",
       "<style scoped>\n",
       "    .dataframe tbody tr th:only-of-type {\n",
       "        vertical-align: middle;\n",
       "    }\n",
       "\n",
       "    .dataframe tbody tr th {\n",
       "        vertical-align: top;\n",
       "    }\n",
       "\n",
       "    .dataframe thead th {\n",
       "        text-align: right;\n",
       "    }\n",
       "</style>\n",
       "<table border=\"1\" class=\"dataframe\">\n",
       "  <thead>\n",
       "    <tr style=\"text-align: right;\">\n",
       "      <th></th>\n",
       "      <th>id</th>\n",
       "      <th>title</th>\n",
       "      <th>content</th>\n",
       "      <th>slug</th>\n",
       "    </tr>\n",
       "  </thead>\n",
       "  <tbody>\n",
       "    <tr>\n",
       "      <th>0</th>\n",
       "      <td>2869</td>\n",
       "      <td>Why Scalability Matters for Your App</td>\n",
       "      <td>Building an app is an extensive process. From ...</td>\n",
       "      <td>why-scalability-matters-for-your-app</td>\n",
       "    </tr>\n",
       "    <tr>\n",
       "      <th>1</th>\n",
       "      <td>2873</td>\n",
       "      <td>Is a Scrum Agile Development Process Right for...</td>\n",
       "      <td>A Brief History of Scrum Agile Development: \\n...</td>\n",
       "      <td>is-a-scrum-agile-development-process-right-for...</td>\n",
       "    </tr>\n",
       "    <tr>\n",
       "      <th>2</th>\n",
       "      <td>2876</td>\n",
       "      <td>How to Make Your App Irresistible Through User...</td>\n",
       "      <td>Guessing is a part of life—and it’s necessary....</td>\n",
       "      <td>how-to-make-your-app-irresistible-through-user...</td>\n",
       "    </tr>\n",
       "    <tr>\n",
       "      <th>3</th>\n",
       "      <td>2877</td>\n",
       "      <td>5 Product Manager MUSTS for Creating a Success...</td>\n",
       "      <td>Product management is a tough job. You must tr...</td>\n",
       "      <td>5-product-manager-musts-for-creating-a-success...</td>\n",
       "    </tr>\n",
       "    <tr>\n",
       "      <th>4</th>\n",
       "      <td>2878</td>\n",
       "      <td>7 Key Questions to Ask Your Prospective App De...</td>\n",
       "      <td>From the moment you decide to move forward wit...</td>\n",
       "      <td>7-key-questions-to-ask-prospective-app-develop...</td>\n",
       "    </tr>\n",
       "  </tbody>\n",
       "</table>\n",
       "</div>"
      ],
      "text/plain": [
       "     id                                              title  \\\n",
       "0  2869               Why Scalability Matters for Your App   \n",
       "1  2873  Is a Scrum Agile Development Process Right for...   \n",
       "2  2876  How to Make Your App Irresistible Through User...   \n",
       "3  2877  5 Product Manager MUSTS for Creating a Success...   \n",
       "4  2878  7 Key Questions to Ask Your Prospective App De...   \n",
       "\n",
       "                                             content  \\\n",
       "0  Building an app is an extensive process. From ...   \n",
       "1  A Brief History of Scrum Agile Development: \\n...   \n",
       "2  Guessing is a part of life—and it’s necessary....   \n",
       "3  Product management is a tough job. You must tr...   \n",
       "4  From the moment you decide to move forward wit...   \n",
       "\n",
       "                                                slug  \n",
       "0               why-scalability-matters-for-your-app  \n",
       "1  is-a-scrum-agile-development-process-right-for...  \n",
       "2  how-to-make-your-app-irresistible-through-user...  \n",
       "3  5-product-manager-musts-for-creating-a-success...  \n",
       "4  7-key-questions-to-ask-prospective-app-develop...  "
      ]
     },
     "execution_count": 15,
     "metadata": {},
     "output_type": "execute_result"
    }
   ],
   "source": [
    "blogs_df.head()"
   ]
  },
  {
   "cell_type": "code",
   "execution_count": 17,
   "metadata": {},
   "outputs": [],
   "source": [
    "blogs_df[\"slug_new\"] = blogs_df[\"slug\"].apply(lambda x: ' '.join(x.split(\"-\")))"
   ]
  },
  {
   "cell_type": "code",
   "execution_count": 18,
   "metadata": {},
   "outputs": [],
   "source": [
    "blogs_df[\"data\"] = blogs_df[\"slug_new\"] + \" \" + blogs_df[\"content\"]"
   ]
  },
  {
   "cell_type": "code",
   "execution_count": 19,
   "metadata": {},
   "outputs": [
    {
     "data": {
      "text/html": [
       "<div>\n",
       "<style scoped>\n",
       "    .dataframe tbody tr th:only-of-type {\n",
       "        vertical-align: middle;\n",
       "    }\n",
       "\n",
       "    .dataframe tbody tr th {\n",
       "        vertical-align: top;\n",
       "    }\n",
       "\n",
       "    .dataframe thead th {\n",
       "        text-align: right;\n",
       "    }\n",
       "</style>\n",
       "<table border=\"1\" class=\"dataframe\">\n",
       "  <thead>\n",
       "    <tr style=\"text-align: right;\">\n",
       "      <th></th>\n",
       "      <th>id</th>\n",
       "      <th>title</th>\n",
       "      <th>content</th>\n",
       "      <th>slug</th>\n",
       "      <th>data</th>\n",
       "      <th>slug_new</th>\n",
       "    </tr>\n",
       "  </thead>\n",
       "  <tbody>\n",
       "    <tr>\n",
       "      <th>0</th>\n",
       "      <td>2869</td>\n",
       "      <td>Why Scalability Matters for Your App</td>\n",
       "      <td>Building an app is an extensive process. From ...</td>\n",
       "      <td>why-scalability-matters-for-your-app</td>\n",
       "      <td>why scalability matters for your app Building ...</td>\n",
       "      <td>why scalability matters for your app</td>\n",
       "    </tr>\n",
       "    <tr>\n",
       "      <th>1</th>\n",
       "      <td>2873</td>\n",
       "      <td>Is a Scrum Agile Development Process Right for...</td>\n",
       "      <td>A Brief History of Scrum Agile Development: \\n...</td>\n",
       "      <td>is-a-scrum-agile-development-process-right-for...</td>\n",
       "      <td>is a scrum agile development process right for...</td>\n",
       "      <td>is a scrum agile development process right for...</td>\n",
       "    </tr>\n",
       "    <tr>\n",
       "      <th>2</th>\n",
       "      <td>2876</td>\n",
       "      <td>How to Make Your App Irresistible Through User...</td>\n",
       "      <td>Guessing is a part of life—and it’s necessary....</td>\n",
       "      <td>how-to-make-your-app-irresistible-through-user...</td>\n",
       "      <td>how to make your app irresistible through user...</td>\n",
       "      <td>how to make your app irresistible through user...</td>\n",
       "    </tr>\n",
       "    <tr>\n",
       "      <th>3</th>\n",
       "      <td>2877</td>\n",
       "      <td>5 Product Manager MUSTS for Creating a Success...</td>\n",
       "      <td>Product management is a tough job. You must tr...</td>\n",
       "      <td>5-product-manager-musts-for-creating-a-success...</td>\n",
       "      <td>5 product manager musts for creating a success...</td>\n",
       "      <td>5 product manager musts for creating a success...</td>\n",
       "    </tr>\n",
       "    <tr>\n",
       "      <th>4</th>\n",
       "      <td>2878</td>\n",
       "      <td>7 Key Questions to Ask Your Prospective App De...</td>\n",
       "      <td>From the moment you decide to move forward wit...</td>\n",
       "      <td>7-key-questions-to-ask-prospective-app-develop...</td>\n",
       "      <td>7 key questions to ask prospective app develop...</td>\n",
       "      <td>7 key questions to ask prospective app develop...</td>\n",
       "    </tr>\n",
       "  </tbody>\n",
       "</table>\n",
       "</div>"
      ],
      "text/plain": [
       "     id                                              title  \\\n",
       "0  2869               Why Scalability Matters for Your App   \n",
       "1  2873  Is a Scrum Agile Development Process Right for...   \n",
       "2  2876  How to Make Your App Irresistible Through User...   \n",
       "3  2877  5 Product Manager MUSTS for Creating a Success...   \n",
       "4  2878  7 Key Questions to Ask Your Prospective App De...   \n",
       "\n",
       "                                             content  \\\n",
       "0  Building an app is an extensive process. From ...   \n",
       "1  A Brief History of Scrum Agile Development: \\n...   \n",
       "2  Guessing is a part of life—and it’s necessary....   \n",
       "3  Product management is a tough job. You must tr...   \n",
       "4  From the moment you decide to move forward wit...   \n",
       "\n",
       "                                                slug  \\\n",
       "0               why-scalability-matters-for-your-app   \n",
       "1  is-a-scrum-agile-development-process-right-for...   \n",
       "2  how-to-make-your-app-irresistible-through-user...   \n",
       "3  5-product-manager-musts-for-creating-a-success...   \n",
       "4  7-key-questions-to-ask-prospective-app-develop...   \n",
       "\n",
       "                                                data  \\\n",
       "0  why scalability matters for your app Building ...   \n",
       "1  is a scrum agile development process right for...   \n",
       "2  how to make your app irresistible through user...   \n",
       "3  5 product manager musts for creating a success...   \n",
       "4  7 key questions to ask prospective app develop...   \n",
       "\n",
       "                                            slug_new  \n",
       "0               why scalability matters for your app  \n",
       "1  is a scrum agile development process right for...  \n",
       "2  how to make your app irresistible through user...  \n",
       "3  5 product manager musts for creating a success...  \n",
       "4  7 key questions to ask prospective app develop...  "
      ]
     },
     "execution_count": 19,
     "metadata": {},
     "output_type": "execute_result"
    }
   ],
   "source": [
    "blogs_df.head()"
   ]
  },
  {
   "cell_type": "code",
   "execution_count": 20,
   "metadata": {},
   "outputs": [
    {
     "name": "stderr",
     "output_type": "stream",
     "text": [
      "Preprocess Data: 100%|██████████| 485/485 [00:14<00:00, 33.41it/s]\n"
     ]
    }
   ],
   "source": [
    "blogs_df[\"normalize_data\"] = blogs_df[\"data\"].progress_apply(translate_spanish_data)"
   ]
  },
  {
   "cell_type": "code",
   "execution_count": 21,
   "metadata": {},
   "outputs": [
    {
     "name": "stderr",
     "output_type": "stream",
     "text": [
      "Preprocess Data: 100%|██████████| 485/485 [00:08<00:00, 58.67it/s]\n"
     ]
    }
   ],
   "source": [
    "blogs_df[\"lang\"] = blogs_df[\"data\"].progress_apply(get_lang)"
   ]
  },
  {
   "cell_type": "code",
   "execution_count": 25,
   "metadata": {},
   "outputs": [],
   "source": [
    "import json\n",
    "json.dump(blogs_df[\"normalize_data\"].tolist(), open(\"data/data.json\", \"w\"))"
   ]
  },
  {
   "cell_type": "code",
   "execution_count": 26,
   "metadata": {},
   "outputs": [],
   "source": [
    "json.dump(blogs_df[\"slug\"].tolist(), open(\"data/idx_to_slug.json\", \"w\"))"
   ]
  }
 ],
 "metadata": {
  "kernelspec": {
   "display_name": "Python 3",
   "language": "python",
   "name": "python3"
  },
  "language_info": {
   "codemirror_mode": {
    "name": "ipython",
    "version": 3
   },
   "file_extension": ".py",
   "mimetype": "text/x-python",
   "name": "python",
   "nbconvert_exporter": "python",
   "pygments_lexer": "ipython3",
   "version": "3.7.7"
  },
  "widgets": {
   "application/vnd.jupyter.widget-state+json": {
    "state": {},
    "version_major": 2,
    "version_minor": 0
   }
  }
 },
 "nbformat": 4,
 "nbformat_minor": 4
}
